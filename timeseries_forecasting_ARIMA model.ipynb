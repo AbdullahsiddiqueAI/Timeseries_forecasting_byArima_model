{
 "cells": [
  {
   "cell_type": "code",
   "execution_count": null,
   "id": "6995ad54",
   "metadata": {},
   "outputs": [],
   "source": [
    "pip install pmdarima"
   ]
  },
  {
   "cell_type": "code",
   "execution_count": null,
   "id": "b9cced7c",
   "metadata": {},
   "outputs": [],
   "source": [
    "import pandas as pd \n",
    "import numpy as np \n",
    "from matplotlib import pyplot "
   ]
  },
  {
   "cell_type": "code",
   "execution_count": null,
   "id": "63b1b29f",
   "metadata": {
    "collapsed": true
   },
   "outputs": [],
   "source": [
    "df = pd.read_csv('./data/MaunaLoaDailyTemps.csv',index_col='DATE',parse_dates=True)\n",
    "df = df.dropna()\n",
    "df.shape\n",
    "df.head()"
   ]
  },
  {
   "cell_type": "code",
   "execution_count": null,
   "id": "e44f011d",
   "metadata": {
    "collapsed": true
   },
   "outputs": [],
   "source": [
    "df['AvgTemp'].plot(figsize=(9,5))"
   ]
  },
  {
   "cell_type": "code",
   "execution_count": null,
   "id": "824d0fa8",
   "metadata": {},
   "outputs": [],
   "source": [
    "# check statinary or not by dicky fuller test.\n",
    "# the above plot is loking that the dataset is stationary but chec it by dicky fuller test\n",
    "# to assure.\n",
    "from statsmodels.tsa.stattools import adfuller\n",
    "\n",
    "# .)The blw p_value is used if it is lower than 0.5 so it is stationary if not hight value then\n",
    "# itsnot stationary.\n",
    "dftest = adfuller(df['AvgTemp'],autolag='AIC')\n",
    "print(\"1. ADF : \",dftest[0])\n",
    "print(\"2. P_value  : \",dftest[1])\n",
    "print(\"3. Num od Lags : \",dftest[2])\n",
    "print(\"4. Num od observations used for ADF regression and critical values calculation : \",dftest[3])\n",
    "print(\"5. Critical values : \") \n",
    "for key, val in dftest[4].items():\n",
    "    print(\"\\t\",key, \": \",val)\n",
    "#            .)p value is 8 so its not statinary .         "
   ]
  },
  {
   "cell_type": "code",
   "execution_count": null,
   "id": "62e9f4f9",
   "metadata": {
    "collapsed": true
   },
   "outputs": [],
   "source": [
    "\n",
    "# arima(p,d,q)\n",
    "# p is lags of auto reg d is differnce to to make data statinary and q is lags of moving \n",
    "# avg.\n",
    "\n",
    "# figure out order for arima .\n",
    "# .)The blw auto_arima will automatyically see and tke out good values of p,d, and q .\n",
    "from pmdarima import auto_arima \n",
    "# .)Trace true will print every step.\n",
    "stepwise_fit = auto_arima(df['AvgTemp'],trace=True,suppress_warnings=True)\n",
    "stepwise_fit.summary()"
   ]
  },
  {
   "cell_type": "code",
   "execution_count": null,
   "id": "fc928848",
   "metadata": {},
   "outputs": [],
   "source": [
    "# .)The above auto-arima give followig reslt .\n",
    "# Best model:  ARIMA(1,0,5)(0,0,0)[0] intercept\n",
    "# Total fit time: 40.135 seconds"
   ]
  },
  {
   "cell_type": "code",
   "execution_count": null,
   "id": "03112ece",
   "metadata": {},
   "outputs": [],
   "source": []
  },
  {
   "cell_type": "code",
   "execution_count": null,
   "id": "d965b256",
   "metadata": {},
   "outputs": [],
   "source": [
    "train = df.iloc[:-30]\n",
    "test = df.iloc[-30:]\n",
    "print(train.shape,test.shape)"
   ]
  },
  {
   "cell_type": "code",
   "execution_count": null,
   "id": "ecf39d3a",
   "metadata": {
    "collapsed": true
   },
   "outputs": [],
   "source": [
    "import statsmodels.api as sm\n",
    "model=sm.tsa.arima.ARIMA(train['AvgTemp'],order=(1,0,5))\n",
    "model=model.fit()\n",
    "model.summary()"
   ]
  },
  {
   "cell_type": "code",
   "execution_count": null,
   "id": "caa44094",
   "metadata": {
    "collapsed": true
   },
   "outputs": [],
   "source": [
    "# make pred on test .\n",
    "start = len(train)\n",
    "end = len(train)+len(test)-1\n",
    "pred = model.predict(start=start,end=end,type='levels')\n"
   ]
  },
  {
   "cell_type": "code",
   "execution_count": null,
   "id": "39dec2f7",
   "metadata": {
    "collapsed": true
   },
   "outputs": [],
   "source": [
    "pred.index = df.index[start:end+1]\n",
    "print(pred)"
   ]
  },
  {
   "cell_type": "code",
   "execution_count": null,
   "id": "4a132a6c",
   "metadata": {
    "collapsed": true
   },
   "outputs": [],
   "source": [
    "pred.plot(legend=True)\n",
    "test['AvgTemp'].plot(legend=True)"
   ]
  },
  {
   "cell_type": "code",
   "execution_count": null,
   "id": "0af1022f",
   "metadata": {},
   "outputs": [],
   "source": [
    "\n",
    "from sklearn.metrics import mean_squared_error\n",
    "from math import sqrt\n",
    "rmse=sqrt(mean_squared_error(pred,test['AvgTemp']))\n",
    "print(rmse)"
   ]
  },
  {
   "cell_type": "code",
   "execution_count": null,
   "id": "81c9d406",
   "metadata": {
    "collapsed": true
   },
   "outputs": [],
   "source": [
    "# .)Training model again and pred future values.\n",
    "model2=sm.tsa.arima.ARIMA(df['AvgTemp'],order=(1,0,5))\n",
    "model2=model2.fit()\n",
    "df.tail()"
   ]
  },
  {
   "cell_type": "code",
   "execution_count": null,
   "id": "d2deec2d",
   "metadata": {
    "collapsed": true
   },
   "outputs": [],
   "source": [
    "# for future dates.\n",
    "index_future_dates=pd.date_range(start='2018-12-30',end='2019-01-29')\n",
    "#print(index_future_dates)\n",
    "pred=model2.predict(start=len(df),end=len(df)+30,typ='levels').rename('ARIMA Predictions')\n",
    "#print(comp_pred)\n",
    "pred.index=index_future_dates\n",
    "print(pred)"
   ]
  },
  {
   "cell_type": "code",
   "execution_count": null,
   "id": "8f56c5de",
   "metadata": {},
   "outputs": [],
   "source": [
    "pred.plot(figsize=(12,5),legend=True)"
   ]
  },
  {
   "cell_type": "code",
   "execution_count": null,
   "id": "224f150a",
   "metadata": {},
   "outputs": [],
   "source": []
  },
  {
   "cell_type": "code",
   "execution_count": null,
   "id": "8b91c9b8",
   "metadata": {},
   "outputs": [],
   "source": []
  },
  {
   "cell_type": "code",
   "execution_count": null,
   "id": "44c7d3e8",
   "metadata": {},
   "outputs": [],
   "source": []
  },
  {
   "cell_type": "code",
   "execution_count": null,
   "id": "63b55361",
   "metadata": {},
   "outputs": [],
   "source": []
  },
  {
   "cell_type": "code",
   "execution_count": null,
   "id": "07731635",
   "metadata": {},
   "outputs": [],
   "source": []
  },
  {
   "cell_type": "code",
   "execution_count": null,
   "id": "ad37f1e3",
   "metadata": {},
   "outputs": [],
   "source": []
  },
  {
   "cell_type": "code",
   "execution_count": null,
   "id": "fd0d8b55",
   "metadata": {},
   "outputs": [],
   "source": []
  },
  {
   "cell_type": "code",
   "execution_count": null,
   "id": "02b74c48",
   "metadata": {},
   "outputs": [],
   "source": []
  },
  {
   "cell_type": "code",
   "execution_count": null,
   "id": "43814983",
   "metadata": {},
   "outputs": [],
   "source": []
  },
  {
   "cell_type": "code",
   "execution_count": null,
   "id": "7584e74c",
   "metadata": {},
   "outputs": [],
   "source": []
  },
  {
   "cell_type": "code",
   "execution_count": null,
   "id": "deb3aeb6",
   "metadata": {},
   "outputs": [],
   "source": []
  },
  {
   "cell_type": "code",
   "execution_count": null,
   "id": "0afa0cab",
   "metadata": {},
   "outputs": [],
   "source": []
  },
  {
   "cell_type": "code",
   "execution_count": null,
   "id": "5c6da79f",
   "metadata": {},
   "outputs": [],
   "source": []
  },
  {
   "cell_type": "code",
   "execution_count": null,
   "id": "1d81d465",
   "metadata": {},
   "outputs": [],
   "source": []
  },
  {
   "cell_type": "code",
   "execution_count": null,
   "id": "dfb743de",
   "metadata": {},
   "outputs": [],
   "source": []
  },
  {
   "cell_type": "code",
   "execution_count": null,
   "id": "e929bb23",
   "metadata": {},
   "outputs": [],
   "source": []
  }
 ],
 "metadata": {
  "kernelspec": {
   "display_name": "Python 3 (ipykernel)",
   "language": "python",
   "name": "python3"
  },
  "language_info": {
   "codemirror_mode": {
    "name": "ipython",
    "version": 3
   },
   "file_extension": ".py",
   "mimetype": "text/x-python",
   "name": "python",
   "nbconvert_exporter": "python",
   "pygments_lexer": "ipython3",
   "version": "3.11.5"
  }
 },
 "nbformat": 4,
 "nbformat_minor": 5
}
